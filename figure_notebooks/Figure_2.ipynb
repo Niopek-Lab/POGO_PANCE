{
 "cells": [
  {
   "cell_type": "markdown",
   "id": "a1597bac",
   "metadata": {},
   "source": [
    "# Figure 2 — Phage-assisted non-continuous evolution of hyperactive AraC variants.\n",
    "---\n",
    "Unless explicitly noted otherwise (e.g. indicated as being from Zenodo), all data used for the visualisations was generated using the Illumina or Nanopore pipeline.\n",
    "Please make sure to download the input dataset `Flow_cytometry_raw_data` from the Zenodo repository and place it in a folder named `data` at root repository level.\n",
    "\n",
    "For more information, please refer to the `README.md`.\n",
    "\n",
    "### Figure Summary\n",
    "\n",
    "<div style=\"text-indent:-2em; padding-left:2em\"><strong>(A) Schematic of the used mutagenesis system </strong></div>  \n",
    "<div style=\"text-indent:-2em; padding-left:2em\"><strong>(B) Positive selection circuit. </strong></div>  \n",
    "<div style=\"text-indent:-2em; padding-left:2em\"><strong>(C) Summary of the AraC PANCE campaign.</strong></div>  \n",
    "<div style=\"text-indent:-2em; padding-left:2em\"><strong>(D) Genotypic analysis of evolved AraC variants.</strong></div>  \n",
    "<div style=\"text-indent:-2em; padding-left:2em\"><strong>(E) Visual screening of AraC variants using an mRFP reporter assay.</strong></div>  \n",
    "<div style=\"text-indent:-2em; padding-left:2em\"><strong>(F) Quantification of AraC variant activity.</strong></div>  \n",
    "<div style=\"text-indent:-2em; padding-left:2em\"><strong>(G)Flow cytometry analysis of WT AraC and R2 variant.</strong></div>  \n",
    "<div style=\"text-indent:-2em; padding-left:2em\"><strong>(H) Negative selection circuit. </strong></div>  \n",
    "<div style=\"text-indent:-2em; padding-left:2em\"><strong>(I) Head-to-head competition assay between WT AraC and R2 under negative selection</strong></div>  \n"
   ]
  },
  {
   "cell_type": "markdown",
   "id": "ccd675f5",
   "metadata": {},
   "source": [
    "## Figure 2A: Schematic of the used mutagenesis system\n",
    "----------------------------\n",
    "In the plLacO1-DP6 circuit, infection with a\n",
    "selection phage (SP) and addition of anhydrotetracycline (aTc) induce gIII expression and enable\n",
    "phage propagation, while IPTG addition activates a mutagenesis operon that diversifies the SP\n",
    "genome. Figure created with Adobe Illustrator.\n"
   ]
  },
  {
   "cell_type": "markdown",
   "id": "9d7ab712",
   "metadata": {},
   "source": [
    "![Figure 2A](figure_illustrations/Figure_2A.png)"
   ]
  },
  {
   "cell_type": "markdown",
   "id": "7741e7a0",
   "metadata": {},
   "source": [
    "## Figure 2B: Positive selection circuit\n",
    "----------------------------\n",
    "SPs encoding active AraC variants induce gIII expression\n",
    "via the pBAD promoter. Right: Arabinose-dependent propagation of an SP encoding WT AraC,\n",
    "demonstrating induction-dependent propagation. Bars represent mean ± Standard Error of the\n",
    "Mean (S.E.M.) of three biological replicates, as quantified by qPCR. Corresponding phage\n",
    "plaque assay shown in Fig. S1B. Figure created with Adobe Illustrator.\n"
   ]
  },
  {
   "cell_type": "markdown",
   "id": "5f991b91",
   "metadata": {},
   "source": [
    "![Alt Text](figure_illustrations/Figure_2B.png)"
   ]
  },
  {
   "cell_type": "markdown",
   "id": "7d46a86a",
   "metadata": {},
   "source": [
    "## Figure 2C: Summary of the AraC PANCE campaign.\n",
    "----------------------------\n",
    "Phage titers from\n",
    "each day (D1-10) are shown in Fig. S1C, D.  Figure created with Adobe Illustrator.\n"
   ]
  },
  {
   "cell_type": "markdown",
   "id": "512461cf",
   "metadata": {},
   "source": [
    "![Alt Text](figure_illustrations/Figure_2C.png)"
   ]
  },
  {
   "cell_type": "markdown",
   "id": "2b50041b",
   "metadata": {},
   "source": [
    "## Figure 2D: Genotypic analysis of evolved AraC variants.\n",
    "----------------------------\n",
    "Pooled phage populations and one individual plaque from the final selection day (D10) were\n",
    "sequenced, revealing six distinct variants (R1–R6). Figure created with Adobe Illustrator. \n"
   ]
  },
  {
   "cell_type": "markdown",
   "id": "fde8a300",
   "metadata": {},
   "source": [
    "![Alt Text](figure_illustrations/Figure_2D.png)"
   ]
  },
  {
   "cell_type": "markdown",
   "id": "3da53103",
   "metadata": {},
   "source": [
    "## Figure 2E+F: Visual screening of AraC variants using an mRFP reporter assay and quantification of AraC variant activity.\n",
    "----------------------------\n",
    "WT AraC and evolved variants (R1–R6)\n",
    "were expressed from a LacI-dependent expression cassette containing the SD4 RBS and co-\n",
    "transformed with a pBAD regulated mRFP reporter plasmid (Fig. S1E). Cultures were grown\n",
    "without IPTG or Arabinose. Quantification of AraC variant activity. AraC variants were\n",
    "expressed as in E, but using the weaker sd2 RBS. RFP fluorescence normalized to OD600 was\n",
    "measured in the presence or absence of 10 mM L-arabinose in a plate reader. Data shown as\n",
    "mean ± S.E.M. from n = 3 biological replicates. Figure created with Adobe Illustrator and GraphPad Prism.\n"
   ]
  },
  {
   "cell_type": "markdown",
   "id": "8218fd88",
   "metadata": {},
   "source": [
    "![Alt Text](figure_illustrations/Figure_2E+F.png)"
   ]
  },
  {
   "cell_type": "markdown",
   "id": "204d8564",
   "metadata": {},
   "source": [
    "## Figure 2G: Flow cytometry analysis of WT AraC and R2 variant. \n",
    "----------------------------\n",
    "\n",
    "Reporter fluorescence was quantified in presence or absence of 16 mM L-arabinose.\n",
    "Gating strategy described in fig. S2A.\n",
    "\n",
    "**Note:** The following analysis uses the `cytoflow` package, which is incompatible with modern versions of `seaborn`, `matplotlib`, and `numpy`.  To avoid conflicts, run the Cytoflow section in a **separate virtual environment**. \n",
    "\n",
    "You can create and activate the required environment as follows:\n",
    "\n",
    "```bash\n",
    "# Add the Cytoflow conda channel\n",
    "conda config --add channels bpteague\n",
    "\n",
    "# Create and activate the environment\n",
    "conda create --name cf cytoflow notebook\n",
    "conda activate cf\n"
   ]
  },
  {
   "cell_type": "markdown",
   "id": "231f63ea",
   "metadata": {},
   "source": [
    "#### Setup\n",
    "\n",
    "Run the following cell to import all required libraries, define plotting settings, and configure the environment for data analysis and visualization."
   ]
  },
  {
   "cell_type": "code",
   "execution_count": null,
   "id": "10fc81ff",
   "metadata": {},
   "outputs": [],
   "source": [
    "# --- Import necessary modules ---\n",
    "import cytoflow\n",
    "from cytoflow import *\n",
    "import seaborn as sns\n",
    "import numpy as np\n",
    "import pandas as pd\n",
    "import matplotlib.pyplot as plt\n",
    "import matplotlib as mpl\n",
    "from matplotlib.lines import Line2D\n",
    "from matplotlib.patches import Patch\n",
    "import math\n",
    "\n",
    "# --- Seaborn theme configuration ---\n",
    "custom_params = {\n",
    "    \"axes.spines.right\": False,\n",
    "    \"axes.spines.top\": False,\n",
    "    \"axes.linewidth\": 1\n",
    "}\n",
    "sns.set_theme(context=\"paper\", style='ticks', palette=\"Greys_r\", rc=custom_params)\n",
    "\n",
    "# --- General matplotlib settings ---\n",
    "fs = 8  # font size\n",
    "plt.rcParams['svg.fonttype'] = 'none'\n",
    "mpl.rcParams.update({\n",
    "    'font.family': 'Avenir Next',\n",
    "    'font.weight': 'demi', \n",
    "    'font.size': fs,\n",
    "    'text.color': '#231F20',\n",
    "    'axes.labelcolor': '#231F20',\n",
    "    'xtick.color': '#231F20',\n",
    "    'ytick.color': '#231F20',\n",
    "    'axes.edgecolor': '#231F20',\n",
    "    'figure.facecolor': 'white',\n",
    "    'axes.facecolor': 'white',\n",
    "    'pdf.fonttype': 42,\n",
    "    'text.usetex': False\n",
    "})\n",
    "sns.set_context(\"paper\", rc={\n",
    "    \"font.size\": fs,\n",
    "    \"axes.titlesize\": fs + 1,\n",
    "    \"axes.labelsize\": fs,\n",
    "    \"axes.linewidth\": 1,\n",
    "    \"xtick.labelsize\": fs,\n",
    "    \"ytick.labelsize\": fs,\n",
    "    \"legend.fontsize\": fs,\n",
    "    \"legend.title_fontsize\": fs + 1\n",
    "})\n"
   ]
  },
  {
   "cell_type": "code",
   "execution_count": 7,
   "id": "d153c88b",
   "metadata": {},
   "outputs": [
    {
     "name": "stderr",
     "output_type": "stream",
     "text": [
      "/Users/alicehovsepyan/opt/miniconda3/envs/cf/lib/python3.6/site-packages/cytoflow/utility/log_scale.py:117: RuntimeWarning: invalid value encountered in log10\n"
     ]
    }
   ],
   "source": [
    "# --- Import FACS Data ---\n",
    "op_0 = ImportOp(\n",
    "    conditions={'CF_File': 'category'}, # Define metadata column\n",
    "    tubes=[\n",
    "        # Each Tube corresponds to one .fcs file (one sample)\n",
    "        # `conditions` adds a label to each tube for grouping\n",
    "        Tube(\n",
    "            file=\n",
    "            f'{repo_root}/data/Flow_cytometry_raw_data/13_sd2_AraC_WT_dark.fcs',\n",
    "            conditions={'CF_File': '13_sd2_AraC_WT_dark'}),\n",
    "        Tube(\n",
    "            file=\n",
    "            f'{repo_root}/data/Flow_cytometry_raw_data/14_sd2_AraC_R2_dark.fcs',\n",
    "            conditions={'CF_File': '14_sd2_AraC_R2_dark'}),\n",
    "        Tube(\n",
    "            file=\n",
    "            f'{repo_root}/data/Flow_cytometry_raw_data/19_sd2_AraC_WT_Arabinose_dark.fcs',\n",
    "            conditions={'CF_File': '19_sd2_AraC_WT_Arabinose_dark'}),\n",
    "        Tube(\n",
    "            file=\n",
    "            f'{repo_root}/data/Flow_cytometry_raw_data/20_sd2_AraC_R2_Arabinose_dark.fcs',\n",
    "            conditions={'CF_File': '20_sd2_AraC_R2_Arabinose_dark'})\n",
    "    ],\n",
    "    # Rename FACS channels to readable names\n",
    "    channels={\n",
    "        'FSC-A': 'FSC_A',\n",
    "        'FSC-H': 'FSC_H',\n",
    "        'SSC-A': 'SSC_A',\n",
    "        'SSC-H': 'SSC_H',\n",
    "        'Y610-A': 'Y610_A', # Fluorescence channel\n",
    "    })\n",
    "\n",
    "# Apply the import operation and load data into an experiment object\n",
    "ex_0 = op_0.apply()\n",
    "\n",
    "# --- Gate for E. coli population ---\n",
    "op_1 = PolygonOp(name='Ecoli',\n",
    "                 xchannel='SSC_A',\n",
    "                 ychannel='FSC_A',\n",
    "                 vertices=[(1357.9732606179289, 275.05545196062917),\n",
    "                           (3096.358586276033, 130.4833062471451),\n",
    "                           (30016.169863090054, 22463.177752089905),\n",
    "                           (21981.80211486695, 58220.89159406637),\n",
    "                           (742.6137843756184, 6004.526015249525),\n",
    "                           (818.5434737539503, 698.6374935564252)],\n",
    "                 xscale='log',\n",
    "                 yscale='log')\n",
    "\n",
    "# Apply E. coli gating to data\n",
    "ex_1 = op_1.apply(ex_0)\n",
    "\n",
    "# --- Gate for singlet cells ---\n",
    "op_2 = PolygonOp(name='Singlets',\n",
    "                 xchannel='SSC_A',\n",
    "                 ychannel='SSC_H',\n",
    "                 vertices=[(720.9528536391655, 715.2244917579866),\n",
    "                           (2415.7462968326668, 1718.2013652044473),\n",
    "                           (81537.30363552464, 51916.855303397606),\n",
    "                           (54488.91914190919, 63080.21963700783),\n",
    "                           (575.8161707505337, 949.4559941564318)],\n",
    "                 xscale='log',\n",
    "                 yscale='log')\n",
    "\n",
    "# Apply singlet gating\n",
    "ex_2 = op_2.apply(ex_1)\n",
    "\n",
    "# --- Filter gated population ---\n",
    "# Keep only events that passed both 'Ecoli' and 'Singlets' gates\n",
    "ex_2.data = ex_2.data[ex_2.data['Ecoli']==True]\n",
    "ex_2.data = ex_2.data[ex_2.data['Singlets']==True]\n",
    "# --- Downsample ---\n",
    "# Take a random sample of 15,000 events per CF_File to normalize cell counts\n",
    "ex_2.data = ex_2.data.groupby('CF_File').apply(lambda x: x.sample(15000)).reset_index(drop=True)\n",
    "# --- Compute statistics ---\n",
    "# Calculate the median fluorescence (Y610_A) per sample\n",
    "stats = ex_2.data.groupby(['CF_File']).median().reset_index()\n",
    "\n",
    "colors = ['#93959866', \"#e29385\"]"
   ]
  },
  {
   "cell_type": "code",
   "execution_count": 5,
   "id": "5e161c45",
   "metadata": {},
   "outputs": [],
   "source": [
    "def FACS_hist(title, input_samples, label_names, colors, stats):\n",
    "    # --- Plot aesthetics ---\n",
    "    sns.set(style=\"white\")\n",
    "    sns.set(font_scale=1.5)\n",
    "    sns.set_style('ticks')\n",
    "    plt.rcParams[\"figure.figsize\"] = (5, 5)\n",
    "    plt.rcParams[\"axes.linewidth\"] = 3\n",
    "    plt.rcParams[\"xtick.major.width\"] = 3\n",
    "    plt.rcParams[\"xtick.minor.width\"] = 3\n",
    "    plt.rcParams[\"ytick.major.width\"] = 3   \n",
    "    plt.xlabel('log[RFP]')\n",
    "\n",
    "    # --- Subset data ---\n",
    "    subset = ex_2.data[ex_2.data['CF_File'].isin(input_samples)].copy()\n",
    "    subset['Y610_A'].replace(0, 0.001, inplace=True)\n",
    "    subset['Y610_A'] = pd.to_numeric(subset['Y610_A'], errors='coerce')\n",
    "    plt.gca().set_xlim((1, max(subset['Y610_A'])))\n",
    "\n",
    "    # --- Custom legend ---\n",
    "    handles = [Patch(facecolor=color, label=label) for label, color in zip(label_names, colors)]\n",
    "\n",
    "    # --- Filled KDE curves (with color) ---\n",
    "    sns.kdeplot(\n",
    "        data=subset,\n",
    "        x='Y610_A',\n",
    "        hue=subset['CF_File'].cat.remove_unused_categories(),\n",
    "        cut=0,\n",
    "        fill=True,\n",
    "        common_norm=False,\n",
    "        alpha=0.5,\n",
    "        log_scale=True,\n",
    "        palette=colors,\n",
    "        linewidth=0\n",
    "    )\n",
    "\n",
    "    # --- Overlay black KDE outlines manually for each sample ---\n",
    "    for input_sample in input_samples:\n",
    "        subset_single = subset[subset['CF_File'] == input_sample]\n",
    "        sns.kdeplot(\n",
    "            data=subset_single,\n",
    "            x='Y610_A',\n",
    "            cut=0,\n",
    "            fill=False,\n",
    "            common_norm=False,\n",
    "            log_scale=True,\n",
    "            color='black',\n",
    "            linewidth=3\n",
    "        )\n",
    "\n",
    "    sns.despine()\n",
    "\n",
    "    # --- Legend ---\n",
    "    plt.legend(handles=handles, labels=label_names, frameon=False, loc='center', bbox_to_anchor=(1.3, 0.5))\n",
    "\n",
    "    # --- Limits ---\n",
    "    plt.ylim(0, 2.5)\n",
    "    plt.xlim(1, 10_000_000)\n",
    "\n",
    "    plt.show()"
   ]
  },
  {
   "cell_type": "code",
   "execution_count": 6,
   "id": "c01c02f2",
   "metadata": {},
   "outputs": [
    {
     "name": "stderr",
     "output_type": "stream",
     "text": [
      "/Users/alicehovsepyan/opt/miniconda3/envs/cf/lib/python3.6/site-packages/seaborn/_core.py:1060: RuntimeWarning: invalid value encountered in log10\n",
      "/Users/alicehovsepyan/opt/miniconda3/envs/cf/lib/python3.6/site-packages/seaborn/_core.py:1060: RuntimeWarning: invalid value encountered in log10\n",
      "/Users/alicehovsepyan/opt/miniconda3/envs/cf/lib/python3.6/site-packages/seaborn/_core.py:1060: RuntimeWarning: invalid value encountered in log10\n"
     ]
    },
    {
     "data": {
      "image/png": "[encoded data removed]",
      "text/plain": [
       "<Figure size 360x360 with 1 Axes>"
      ]
     },
     "metadata": {},
     "output_type": "display_data"
    }
   ],
   "source": [
    "FACS_hist('Title-1', ['13_sd2_AraC_WT_dark', '14_sd2_AraC_R2_dark'], ['AraC WT', 'AraC R2'], ['#93959866', \"#e29385\"], stats)"
   ]
  },
  {
   "cell_type": "code",
   "execution_count": 7,
   "id": "baaa8bbf",
   "metadata": {},
   "outputs": [
    {
     "name": "stderr",
     "output_type": "stream",
     "text": [
      "/Users/alicehovsepyan/opt/miniconda3/envs/cf/lib/python3.6/site-packages/seaborn/_core.py:1060: RuntimeWarning: invalid value encountered in log10\n",
      "/Users/alicehovsepyan/opt/miniconda3/envs/cf/lib/python3.6/site-packages/seaborn/_core.py:1060: RuntimeWarning: invalid value encountered in log10\n",
      "/Users/alicehovsepyan/opt/miniconda3/envs/cf/lib/python3.6/site-packages/seaborn/_core.py:1060: RuntimeWarning: invalid value encountered in log10\n"
     ]
    },
    {
     "data": {
      "image/png": "[encoded data removed]",
      "text/plain": [
       "<Figure size 360x360 with 1 Axes>"
      ]
     },
     "metadata": {},
     "output_type": "display_data"
    }
   ],
   "source": [
    "FACS_hist('Title-1', ['19_sd2_AraC_WT_Arabinose_dark', '20_sd2_AraC_R2_Arabinose_dark'], [ 'AraC R2 Arabinose', 'AraC WT Arabinose'], [\"#e29385\", '#93959866'], stats)\n"
   ]
  },
  {
   "cell_type": "markdown",
   "id": "8e46fa36",
   "metadata": {},
   "source": [
    "## Figure 2H: Negative selection circuit. \n",
    "----------------------------\n",
    "SPs\n",
    "encoding active AraC variants induce expression of a dominant-negative form of gIII (pIII-Neg)\n",
    "from the pBAD promoter, preventing phage host cell escape. Concurrently, IPTG induction\n",
    "drives WT gIII expression to support propagation. Figure created with Adobe Illustrator.\n"
   ]
  },
  {
   "cell_type": "markdown",
   "id": "2252d905",
   "metadata": {},
   "source": [
    "![Alt Text](figure_illustrations/Figure_2H.png)"
   ]
  },
  {
   "cell_type": "markdown",
   "id": "82fc5a50",
   "metadata": {},
   "source": [
    "## Figure 2I: Head-to-head competition assay between WT AraC and R2 under negative selection\n",
    "----------------------------\n",
    "Host cells harboring APProp and APNeg were infected\n",
    "with (i) 1 × 106 pfu/mL of either phage individually or (ii) with 5 x 105 pfu/mL of each phage\n",
    "combined. Cultures were supplemented with 25 μM IPTG at the time of phage infection,\n",
    "followed by plague assay. Resulting plaques were sequenced (circled in black) to determine\n",
    "dominant variants. Expanded results in Fig. S3B, with sequence confirmation in Fig. S3C. Figure created with Adobe Illustrator.\n"
   ]
  },
  {
   "cell_type": "markdown",
   "id": "5c79ecff",
   "metadata": {},
   "source": [
    "![Alt Text](figure_illustrations/Figure_2I.png)"
   ]
  }
 ],
 "metadata": {
  "kernelspec": {
   "display_name": "cf",
   "language": "python",
   "name": "python3"
  },
  "language_info": {
   "codemirror_mode": {
    "name": "ipython",
    "version": 3
   },
   "file_extension": ".py",
   "mimetype": "text/x-python",
   "name": "python",
   "nbconvert_exporter": "python",
   "pygments_lexer": "ipython3",
   "version": "3.6.7"
  }
 },
 "nbformat": 4,
 "nbformat_minor": 5
}
