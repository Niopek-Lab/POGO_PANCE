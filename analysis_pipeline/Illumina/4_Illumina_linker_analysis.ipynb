{
 "cells": [
  {
   "cell_type": "markdown",
   "metadata": {},
   "source": [
    "## Linker Library Analysis of Illumina Amplicon Sequencing Data\n",
    "\n",
    "This notebook contains the analysis of aligned reads produced by the script `0_Illumina_preprocess_and_align_reads.py`.\n",
    "\n",
    "Please make sure to download the input dataset `Illumina` from the Zenodo repository and place it in a folder named `data` at root repository level.\n",
    "\n",
    "The full downstream analysis is also automated in the script `2_Illumina_analyze_linkers.py`.\n",
    "\n",
    "For more details, see the `README.md` file in this repository.\n",
    "\n",
    "\n",
    "---\n",
    "\n",
    "#### This notebook includes the following steps:\n",
    "- Comparisons across different barcodes\n",
    "- Sequencing runs\n",
    "---"
   ]
  },
  {
   "cell_type": "markdown",
   "metadata": {},
   "source": [
    "### Notebook setup"
   ]
  },
  {
   "cell_type": "code",
   "execution_count": 1,
   "metadata": {},
   "outputs": [],
   "source": [
    "# --- Import necessary modules ---\n",
    "import os\n",
    "import sys\n",
    "import os.path\n",
    "from pathlib import Path\n",
    "\n",
    "notebook_dir = Path().resolve()\n",
    "repo_root = notebook_dir.parent.parent \n",
    "sys.path.append(str(repo_root))\n",
    "\n",
    "import glob\n",
    "import gzip\n",
    "import json\n",
    "import re\n",
    "import shutil\n",
    "import pickle as pkl\n",
    "from collections import Counter\n",
    "import numpy as np\n",
    "import pandas as pd\n",
    "from scipy import stats\n",
    "from Bio import SeqIO\n",
    "from Bio.Seq import Seq\n",
    "from Bio.SeqRecord import SeqRecord\n",
    "from Bio.SeqIO import QualityIO \n",
    "import matplotlib.pyplot as plt\n",
    "import matplotlib as mpl\n",
    "import matplotlib.cm as cm\n",
    "import matplotlib.colors as mcolors\n",
    "import matplotlib.patches as patches\n",
    "from matplotlib.lines import Line2D\n",
    "import seaborn as sns\n",
    "from scripts.utils import dna_rev_comp, translate_dna2aa\n",
    "from scripts.plotting import *\n",
    "from scripts.Illumina_functions import *\n",
    "from scripts.linker_analysis_functions import *\n",
    "\n",
    "\n",
    "# ======================== PLOTTING SETTINGS ========================\n",
    "\n",
    "\n",
    "# --- Seaborn theme configuration ---\n",
    "custom_params = {\n",
    "    \"axes.spines.right\": False,\n",
    "    \"axes.spines.top\": False,\n",
    "    \"axes.linewidth\": 1\n",
    "}\n",
    "sns.set_theme(context=\"paper\", style='ticks', palette=\"Greys_r\", rc=custom_params)\n",
    "\n",
    "# --- General matplotlib settings ---\n",
    "fs = 8  # font size\n",
    "plt.rcParams['svg.fonttype'] = 'none'\n",
    "mpl.rcParams.update({\n",
    "    'font.family': 'Avenir Next',\n",
    "    'font.weight': 'demi', \n",
    "    'font.size': fs,\n",
    "    'text.color': '#231F20',\n",
    "    'axes.labelcolor': '#231F20',\n",
    "    'xtick.color': '#231F20',\n",
    "    'ytick.color': '#231F20',\n",
    "    'axes.edgecolor': '#231F20',\n",
    "    'figure.facecolor': 'white',\n",
    "    'axes.facecolor': 'white',\n",
    "    'pdf.fonttype': 42,\n",
    "    'text.usetex': False\n",
    "})\n",
    "sns.set_context(\"paper\", rc={\n",
    "    \"font.size\": fs,\n",
    "    \"axes.titlesize\": fs + 1,\n",
    "    \"axes.labelsize\": fs,\n",
    "    \"axes.linewidth\": 1,\n",
    "    \"xtick.labelsize\": fs,\n",
    "    \"ytick.labelsize\": fs,\n",
    "    \"legend.fontsize\": fs,\n",
    "    \"legend.title_fontsize\": fs + 1\n",
    "})\n",
    "\n",
    "# ======================== LAYOUT PARAMETERS ========================\n",
    "# --- Pre-defined figure dimensions for multi-panel plots ---\n",
    "lw = 1\n",
    "fs = 7\n",
    "hi = 10.5 *0.75\n",
    "wi3 = 2.24 \n",
    "wi2 = 4.76\n",
    "wi1 = 7.24\n",
    "nr = 5\n",
    "\n",
    "# --- Utility for shortening sample names ---\n",
    "short_fn = np.vectorize(lambda x: x[:5])"
   ]
  },
  {
   "cell_type": "markdown",
   "metadata": {},
   "source": [
    "### Processing and standard analysis "
   ]
  },
  {
   "cell_type": "code",
   "execution_count": 3,
   "metadata": {},
   "outputs": [
    {
     "name": "stdout",
     "output_type": "stream",
     "text": [
      "<class 'dict'>\n"
     ]
    }
   ],
   "source": [
    "# --- Define analysis parameters ---\n",
    "\n",
    "Bc = \"BC1\" # Barcode identifier\n",
    "read_dir = \"R1\" # Read direction (R1 or R2)\n",
    "variant = \"R36\" # Experimental variant\n",
    "experiment = 'AraC-R2-LOV_POGO_RAMPhaGE_NGS'\n",
    "homedir = repo_root / 'data' / 'Illumina' / experiment\n",
    "\n",
    "base_dir = repo_root\n",
    "\n",
    "# --- Load BLAST alignment output (JSON format) ---\n",
    "with open(f\"{homedir}/blast/alignments/BC1/{variant}_{Bc}_S1_Nt_filt_{read_dir}.out\", \"r\") as file:\n",
    "    blast_output = json.load(file)\n",
    "\n",
    "# Confirm that the loaded BLAST output is a Python dictionary\n",
    "print(type(blast_output))  # Should output: <class 'dict'>\n",
    "\n",
    "# --- Extract BLAST alignments (list of hit entries) ---\n",
    "blast_alignments = blast_output[\"BlastOutput2\"][0][\"report\"][\"results\"][\"search\"][\"hits\"].copy()\n",
    "\n",
    "# --- Define wild-type linker sequences (for comparison/reference) ---\n",
    "wt_left_linker = \"INESSGL\"\n",
    "wt_right_linker = \"IDEAAKGSLHPP\"\n",
    "\n",
    "\n",
    "# --- Define region of interest (ROI) within the amplicon ---\n",
    "# These are DNA sequences marking the start and end of the LOV2 insert\n",
    "LOV_startseq = \"gccacaa\".upper()\n",
    "# LOV_startseq = \"gggagcctgcatcc\".upper() ### GSLHP (left side after linker)\n",
    "LOV_endseq = \"tgctgaaaac\".upper() \n",
    "\n",
    "# --- Define the known protein and DNA sequence of LOV2 insert ---\n",
    "LOV2_prot = \"LATTLERIEKNFVITDPRLPDNPIIFASDSFLQLTEYSREEILGRNCRFLQGPETDRATVRKIRDAIDNQTEVTVQLINYTKSGKKFWNLFHLQPMRDQKGDVQYFIGVQLDGTEHVRDAAEREGVMLIKKTAENIDEAAK\"\n",
    "LOV2_gene = \"ttagccacaacgctggaacgcattgaaaagaatttcgtaatcacagacccgcgccttcccgacaatccaattatttttgcgtccgatagcttcctgcaattaaccgaatacagccgcgaagaaattctgggtcgtaattgtcgcttccttcaggggccagagactgaccgtgctacggtacgcaaaatccgcgacgcaatcgacaatcaaacggaagtcacggttcagttgattaactatacgaagagcggaaaaaaattctggaatttatttcacttgcagcctatgcgtgaccagaagggcgatgtccagtatttcattggcgttcagcttgatggtaccgagcatgttcgcgatgctgcggagcgtgaaggtgtaatgttaattaaaaagactgctgaaaacattgatgaggcggccaaa\".upper()"
   ]
  },
  {
   "cell_type": "code",
   "execution_count": 4,
   "metadata": {},
   "outputs": [],
   "source": [
    "# --- Load configuration parameters ---\n",
    "with open(f\"{homedir}/config.json\") as f:\n",
    "    config = json.load(f)\n",
    "\n",
    "# --- Prepare output directory for notebook-generated figures ---\n",
    "\n",
    "FigFolder = f\"{base_dir}/final_output/{variant}/notebook/\"\n",
    "if not os.path.exists(FigFolder):\n",
    "    os.makedirs(FigFolder)\n",
    "\n",
    "# --- Retrieve the full reference amplicon sequence from config ---\n",
    "amplicon_seq = config[\"amplicon\"]\n",
    "\n",
    "# --- Get exact position of the LOV2 region within the full amplicon sequence ---\n",
    "LOV2_startidx = amplicon_seq.index(LOV_startseq)\n",
    "LOV2_endidx = amplicon_seq.index(LOV_endseq) + len(LOV_endseq)\n"
   ]
  },
  {
   "cell_type": "code",
   "execution_count": 5,
   "metadata": {},
   "outputs": [
    {
     "name": "stdout",
     "output_type": "stream",
     "text": [
      "31553 alignments before filtering for LOV2 insertion site\n",
      "22475 alignments after filtering for LOV2 insertion site\n"
     ]
    }
   ],
   "source": [
    "# --- Filter blast alignments for regions that include LOV2 start site (+- 10 nucleotides) ---\n",
    "print(len(blast_alignments), \"alignments before filtering for LOV2 insertion site\")\n",
    "\n",
    "\n",
    "# --- Determine which region of the insert to filter for ---\n",
    "# If analyzing R1 reads, we filter for the start of the LOV2 insert;\n",
    "# if R2, we filter for the end of the LOV2 insert.\n",
    "filter_for_region = LOV2_startidx if read_dir==\"R1\" else LOV2_endidx \n",
    "\n",
    "# --- Apply filtering: keep only alignments that span the LOV2 insertion site ---\n",
    "# Specifically, we keep reads whose aligned segment starts before (ROI - 10) and ends after (ROI + 10)\n",
    "blast_alignments = [alignment for alignment in blast_alignments if alignment[\"hsps\"][0][\"query_from\"] <= filter_for_region-10 and alignment[\"hsps\"][0][\"query_to\"] >= filter_for_region+10]\n",
    "\n",
    "\n",
    "print(len(blast_alignments), \"alignments after filtering for LOV2 insertion site\")\n"
   ]
  },
  {
   "cell_type": "code",
   "execution_count": null,
   "metadata": {},
   "outputs": [
    {
     "name": "stdout",
     "output_type": "stream",
     "text": [
      "GCCACAA\n",
      "2 sequences are excluded, since LOV2 start site could not be found in the ref (due to '-' i.e. insertions at the start of LOV2)\n"
     ]
    }
   ],
   "source": [
    "# ============================== DIVIDE READS INTO LINKER AND INSERT ==============================\n",
    "\n",
    "# --- Define the sequence at which to split the reads ---\n",
    "# For R1: we use the start of LOV2 (LOV_startseq) as the split point.\n",
    "# For R2: we use the end of LOV2 (LOV_endseq) as the split point.\n",
    "cut_site_seq = LOV_startseq if read_dir==\"R1\" else LOV_endseq\n",
    "\n",
    "print(LOV_startseq)\n",
    "\n",
    "# --- Split BLAST alignments into linker and insert (LOV2) parts ---\n",
    "# This function returns:\n",
    "# - linker_alignments: all reads aligned to the linker region\n",
    "# - LOV2_alignments: all reads aligned to the LOV2 insert region\n",
    "# - coverage: per-position coverage across the whole sequence\n",
    "linker_alignments, LOV2_alignments, coverage = divide_alignments(blast_alignments,cut_site_seq, query_seq=LOV2_gene ,read_dir=read_dir)\n",
    "\n",
    "# ============================== ANALYZE LINKER SEQUENCES ==============================\n",
    "\n",
    "# --- Extract all linker variants and their frequencies ---\n",
    "# This function compares each linker sequence to the wild-type linker.\n",
    "# It returns:\n",
    "# - linkers: dictionary of variant sequences and their read counts\n",
    "# - linker_list: list of all linker variants (including wt and mutants)\n",
    "linkers, linker_list = get_linker_variants(linker_alignments,wt_linker = wt_left_linker if read_dir==\"R1\" else wt_right_linker, read_dir=read_dir)"
   ]
  },
  {
   "cell_type": "code",
   "execution_count": null,
   "metadata": {},
   "outputs": [
    {
     "name": "stdout",
     "output_type": "stream",
     "text": [
      "INESSGL -> SG\n",
      "INESVL -> V\n",
      "INESPL -> P\n",
      "INESLL -> L\n",
      "INESSL -> S\n",
      "INESKL -> K\n",
      "INESWL -> W\n",
      "INESAL -> A\n",
      "INESRL -> R\n",
      "INESQL -> Q\n",
      "INESTL -> T\n",
      "INESNL -> N\n",
      "INESCL -> C\n",
      "INESGL -> G\n",
      "INESFL -> F\n",
      "INESHL -> H\n",
      "INESDL -> D\n",
      "INESML -> M\n",
      "INESGTGL -> GTG\n",
      "INESGSGL -> GSG\n",
      "INESGWGL -> GWG\n",
      "INESGVGL -> GVG\n",
      "INESGAGL -> GAG\n",
      "INESGMGL -> GMG\n",
      "INESIL -> I\n",
      "INESPPL -> PP\n",
      "INESEL -> E\n",
      "INESGQGL -> GQG\n",
      "INESGGL -> GG\n",
      "INESGCGL -> GCG\n",
      "INESGKGL -> GKG\n",
      "INESGGGL -> GGG\n",
      "INESGEGL -> GEG\n",
      "INESYL -> Y\n",
      "INESGRGL -> GRG\n",
      "INESGHGL -> GHG\n",
      "INESGDGL -> GDG\n",
      "INESGPGL -> GPG\n",
      "INESGFGL -> GFG\n",
      "INESGIGL -> GIG\n",
      "INESGNGL -> GNG\n",
      "INESGYGL -> GYG\n",
      "INESGLGL -> GLG\n",
      "INESGPPPGL -> GPPPG\n",
      "INESGSGGL -> GSGG\n",
      "INESGSGSGL -> GSGSG\n",
      "INESGGSGL -> GGSG\n",
      "INESGPPGL -> GPPG\n",
      "INEL -> (-1del)\n",
      "INESSDL -> SD\n"
     ]
    }
   ],
   "source": [
    "# ============================== PROCESS LINKER FREQUENCIES ==============================\n",
    "\n",
    "## --- Sort linker variants by their frequency in descending order ---\n",
    "linkers_sorted = {k: v for k, v in sorted(linkers.items(), key=lambda item: item[1], reverse=True)}\n",
    "\n",
    "## --- Calculate the total number of reads that were assigned to linker variants ---\n",
    "total_reads = sum(linkers_sorted.values())\n",
    "\n",
    "## --- Convert absolute counts into percentages ---\n",
    "linkers_sorted_perc = {k: v/total_reads*100 for k, v in linkers_sorted.items()}\n",
    "\n",
    "# ============================== FILTER LINKER VARIANTS ==============================\n",
    "\n",
    "## --- Exclude wild-type (wt) linker from the analysis ---\n",
    "linkers_sorted_perc.pop(\"wt\")\n",
    "\n",
    "## --- Filter out low-frequency variants (< 0.05%) ---\n",
    "linkers_perc_filt = {k: v for k, v in linkers_sorted_perc.items() if v > 0.05}\n",
    "\n",
    "\n",
    "# ============================== RENAME VARIANTS FOR VISUALIZATION ==============================\n",
    "\n",
    "## --- Rename linker variants for readability in plots ---\n",
    "linkers_perc_filt, linker_renaming = rename_left_linkers(linkers_perc_filt.keys(), linkers_perc_filt) if read_dir==\"R1\" else rename_right_linkers(linkers_perc_filt.keys(), linkers_perc_filt)\n"
   ]
  },
  {
   "cell_type": "code",
   "execution_count": null,
   "metadata": {},
   "outputs": [
    {
     "data": {
      "image/png": "[encoded data removed]",
      "text/plain": [
       "<Figure size 1080x360 with 1 Axes>"
      ]
     },
     "metadata": {
      "needs_background": "light"
     },
     "output_type": "display_data"
    }
   ],
   "source": [
    "# ============================== PLOT LINKER VARIANT DISTRIBUTION ==============================\n",
    "fig, ax = plt.subplots(1, 1, figsize=(15, 5))\n",
    "plt.bar(linkers_perc_filt.keys(), linkers_perc_filt.values())\n",
    "plt.xticks(rotation=90)\n",
    "plt.ylabel(\"Percentage of reads\")\n",
    "plt.text(0.9, 0.93, f\"Total mutation rate: {round(sum(linkers_perc_filt.values()),3)}\", horizontalalignment='center', verticalalignment='center', transform=ax.transAxes)\n",
    "# plt.savefig(f\"{FigFolder}/{variant}_{Bc}_{read_dir}_linker_distribution.pdf\", bbox_inches=\"tight\")\n",
    "plt.show()"
   ]
  }
 ],
 "metadata": {
  "kernelspec": {
   "display_name": "base",
   "language": "python",
   "name": "python3"
  },
  "language_info": {
   "codemirror_mode": {
    "name": "ipython",
    "version": 3
   },
   "file_extension": ".py",
   "mimetype": "text/x-python",
   "name": "python",
   "nbconvert_exporter": "python",
   "pygments_lexer": "ipython3",
   "version": "3.10.18"
  }
 },
 "nbformat": 4,
 "nbformat_minor": 2
}
